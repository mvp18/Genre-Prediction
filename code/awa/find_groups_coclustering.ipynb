{
 "cells": [
  {
   "cell_type": "code",
   "execution_count": 1,
   "metadata": {},
   "outputs": [],
   "source": [
    "import numpy as np\n",
    "import csv\n",
    "import pickle\n",
    "\n",
    "from sklearn.datasets import make_biclusters\n",
    "from sklearn.datasets import samples_generator as sg\n",
    "from sklearn.cluster.bicluster import SpectralCoclustering\n",
    "from sklearn.metrics import consensus_score\n",
    "\n",
    "from matplotlib import pyplot as plt"
   ]
  },
  {
   "cell_type": "code",
   "execution_count": 2,
   "metadata": {},
   "outputs": [],
   "source": [
    "def get_paths_from_file(filepath):\n",
    "\twith open(filepath, 'r') as f:\n",
    "\t\treader = csv.reader(f)\n",
    "\t\tnext(reader)  # flushing first row which as directory\n",
    "\t\timage_path_with_label = []\n",
    "\t\tfor row in reader:\n",
    "\t\t\timage_path_with_label.append(row)\n",
    "\t\treturn image_path_with_label"
   ]
  },
  {
   "cell_type": "code",
   "execution_count": 3,
   "metadata": {},
   "outputs": [],
   "source": [
    "text_file = open(u'predicate-matrix-binary.txt', \"r\")\n",
    "predicate = text_file.readlines()\n",
    "predicate = [x.strip().strip(\"'\").split(' ') for x in predicate]\n",
    "text_file = open(u'classes.txt', \"r\")\n",
    "classes = text_file.readlines()\n",
    "classes = [x.strip().split('\\t')[1] for x in classes]\n",
    "predicate = dict(zip(classes, predicate))\n",
    "\n",
    "text_file = open(u'predicates.txt', \"r\")\n",
    "predicates = text_file.readlines()\n",
    "predicates = [x.strip().split('\\t')[1] for x in predicates]\n",
    "\n",
    "train_data_path = 'image_paths_ZSL_GBU_train.txt'\n",
    "validation_data_path = 'image_paths_ZSL_GBU_dev.txt'\n",
    "test_data_path = 'image_paths_ZSL_GBU_test.txt'\n",
    "\n",
    "train_classes = list(set([line[1].strip() for line in get_paths_from_file(train_data_path)]))\n",
    "dev_classes = list(set([line[1].strip() for line in get_paths_from_file(validation_data_path)]))\n",
    "test_classes = list(set([line[1].strip() for line in get_paths_from_file(test_data_path)]))"
   ]
  },
  {
   "cell_type": "code",
   "execution_count": 5,
   "metadata": {},
   "outputs": [],
   "source": [
    "paths = get_paths_from_file(train_data_path)"
   ]
  },
  {
   "cell_type": "code",
   "execution_count": 6,
   "metadata": {},
   "outputs": [],
   "source": [
    "train_count_dict = {}\n",
    "for p in paths:\n",
    "    if p[1] not in train_count_dict:\n",
    "        train_count_dict[p[1]] = 1\n",
    "    else:\n",
    "        train_count_dict[p[1]] += 1"
   ]
  },
  {
   "cell_type": "code",
   "execution_count": 7,
   "metadata": {},
   "outputs": [
    {
     "data": {
      "text/plain": [
       "{'lion': 1019,\n",
       " 'grizzly+bear': 852,\n",
       " 'cow': 1338,\n",
       " 'collie': 1028,\n",
       " 'chihuahua': 567,\n",
       " 'siamese+cat': 500,\n",
       " 'buffalo': 895,\n",
       " 'squirrel': 1200,\n",
       " 'otter': 758,\n",
       " 'polar+bear': 868,\n",
       " 'pig': 713,\n",
       " 'killer+whale': 291,\n",
       " 'mouse': 185,\n",
       " 'wolf': 589,\n",
       " 'zebra': 1170,\n",
       " 'rhinoceros': 696,\n",
       " 'tiger': 877,\n",
       " 'antelope': 1046,\n",
       " 'fox': 664,\n",
       " 'german+shepherd': 1033,\n",
       " 'persian+cat': 747,\n",
       " 'humpback+whale': 709,\n",
       " 'hippopotamus': 684,\n",
       " 'elephant': 1038,\n",
       " 'weasel': 272,\n",
       " 'skunk': 188,\n",
       " 'spider+monkey': 291}"
      ]
     },
     "execution_count": 7,
     "metadata": {},
     "output_type": "execute_result"
    }
   ],
   "source": [
    "train_count_dict"
   ]
  },
  {
   "cell_type": "code",
   "execution_count": 8,
   "metadata": {},
   "outputs": [],
   "source": [
    "train_attribute_mat = np.zeros((85,27))"
   ]
  },
  {
   "cell_type": "code",
   "execution_count": 9,
   "metadata": {},
   "outputs": [],
   "source": [
    "for i,c in enumerate(train_classes):\n",
    "    for j in range(len(predicate[c])):\n",
    "        train_attribute_mat[j,i] = train_count_dict[c]*float(predicate[c][j])"
   ]
  },
  {
   "cell_type": "code",
   "execution_count": 10,
   "metadata": {},
   "outputs": [],
   "source": [
    "test_attribute_mat = np.zeros((85,10))"
   ]
  },
  {
   "cell_type": "code",
   "execution_count": 11,
   "metadata": {},
   "outputs": [],
   "source": [
    "for i,c in enumerate(test_classes):\n",
    "    for j in range(len(predicate[c])):\n",
    "        test_attribute_mat[j,i] = float(predicate[c][j])"
   ]
  },
  {
   "cell_type": "code",
   "execution_count": 15,
   "metadata": {},
   "outputs": [
    {
     "data": {
      "text/plain": [
       "array([   0.,  589.,    0., 1033.,    0.,  291.,  291.,  500.,  709.,\n",
       "          0.,  877.,  852.,    0., 1338.,  758.,  713.,  895.,    0.,\n",
       "        567.,    0.,    0.,    0.,  188.,    0., 1170.,  272.,    0.])"
      ]
     },
     "execution_count": 15,
     "metadata": {},
     "output_type": "execute_result"
    }
   ],
   "source": [
    "train_attribute_mat[0]"
   ]
  },
  {
   "cell_type": "code",
   "execution_count": 13,
   "metadata": {},
   "outputs": [
    {
     "name": "stderr",
     "output_type": "stream",
     "text": [
      "/anaconda3/envs/workspace/lib/python3.7/site-packages/numpy/lib/function_base.py:2530: RuntimeWarning: invalid value encountered in true_divide\n",
      "  c /= stddev[:, None]\n",
      "/anaconda3/envs/workspace/lib/python3.7/site-packages/numpy/lib/function_base.py:2531: RuntimeWarning: invalid value encountered in true_divide\n",
      "  c /= stddev[None, :]\n"
     ]
    }
   ],
   "source": [
    "corr_train = np.corrcoef(train_attribute_mat)\n",
    "nans = np.isnan(corr_train)\n",
    "corr_train[nans] = 0"
   ]
  },
  {
   "cell_type": "code",
   "execution_count": 16,
   "metadata": {},
   "outputs": [
    {
     "data": {
      "text/plain": [
       "array([[ 1.        ,  0.34730603, -0.04280213, ..., -0.1188454 ,\n",
       "        -0.15092876,  0.32049104],\n",
       "       [ 0.34730603,  1.        ,  0.04564141, ...,  0.03101577,\n",
       "        -0.18680959,  0.50216271],\n",
       "       [-0.04280213,  0.04564141,  1.        , ..., -0.03032281,\n",
       "        -0.14612684,  0.11244662],\n",
       "       ...,\n",
       "       [-0.1188454 ,  0.03101577, -0.03032281, ...,  1.        ,\n",
       "         0.27875138,  0.14924999],\n",
       "       [-0.15092876, -0.18680959, -0.14612684, ...,  0.27875138,\n",
       "         1.        , -0.28749983],\n",
       "       [ 0.32049104,  0.50216271,  0.11244662, ...,  0.14924999,\n",
       "        -0.28749983,  1.        ]])"
      ]
     },
     "execution_count": 16,
     "metadata": {},
     "output_type": "execute_result"
    }
   ],
   "source": [
    "corr_train"
   ]
  },
  {
   "cell_type": "code",
   "execution_count": null,
   "metadata": {},
   "outputs": [],
   "source": [
    "corr_test = np.corrcoef(test_attribute_mat)\n",
    "nans = np.isnan(corr_test)\n",
    "corr_test[nans] = 0"
   ]
  },
  {
   "cell_type": "code",
   "execution_count": null,
   "metadata": {},
   "outputs": [],
   "source": [
    "def diff_corr(corr_train, corr_test):\n",
    "    dis_corr = (corr_train - corr_test)\n",
    "    dis_corr = np.sign(corr_train)*dis_corr\n",
    "    return dis_corr.clip(0,np.inf)"
   ]
  },
  {
   "cell_type": "code",
   "execution_count": null,
   "metadata": {},
   "outputs": [],
   "source": [
    "dis_corr = diff_corr(corr_train, corr_test)\n",
    "dis_corr += 0.01*np.random.rand(len(corr_train), len(corr_train))"
   ]
  },
  {
   "cell_type": "code",
   "execution_count": null,
   "metadata": {},
   "outputs": [],
   "source": [
    "dis_corr += np.random.rand()"
   ]
  },
  {
   "cell_type": "code",
   "execution_count": null,
   "metadata": {},
   "outputs": [],
   "source": [
    "dis_corr[loc[0], loc[1]] = 0.0\n",
    "print dis_corr.max()\n",
    "loc = np.unravel_index(dis_corr.argmax(), dis_corr.shape)\n",
    "print corr_train[loc[0], loc[1]]\n",
    "print corr_test[loc[0], loc[1]]\n",
    "print predicates[loc[0]]\n",
    "print predicates[loc[1]]"
   ]
  },
  {
   "cell_type": "code",
   "execution_count": null,
   "metadata": {},
   "outputs": [],
   "source": [
    "test_classes"
   ]
  },
  {
   "cell_type": "code",
   "execution_count": null,
   "metadata": {},
   "outputs": [],
   "source": [
    "def find_class(attribute):\n",
    "    train = {'pos':[], 'neg':[]}\n",
    "    test = {'pos':[], 'neg':[]}\n",
    "    idx = predicates.index(attribute)\n",
    "    for c in predicate:\n",
    "        attr = predicate[c]\n",
    "        if c in train_classes:\n",
    "            if attr[idx] == '1':\n",
    "                train['pos'].append(c)\n",
    "            else:\n",
    "                train['neg'].append(c)\n",
    "        elif c in test_classes:\n",
    "            if attr[idx] == '1':\n",
    "                test['pos'].append(c)\n",
    "            else:\n",
    "                test['neg'].append(c)\n",
    "    return train, test"
   ]
  },
  {
   "cell_type": "code",
   "execution_count": null,
   "metadata": {},
   "outputs": [],
   "source": [
    "train, test = find_class('mountains')\n",
    "test"
   ]
  },
  {
   "cell_type": "code",
   "execution_count": null,
   "metadata": {},
   "outputs": [],
   "source": [
    "model = SpectralCoclustering(n_clusters=6, random_state=0)\n",
    "model.fit(dis_corr)"
   ]
  },
  {
   "cell_type": "code",
   "execution_count": null,
   "metadata": {},
   "outputs": [],
   "source": [
    "group_dict = {}\n",
    "for i,val in enumerate(model.row_labels_):\n",
    "    if 'g_' + str(val) not in group_dict:\n",
    "        group_dict['g_' + str(val)] = [predicates[i]]\n",
    "    else:\n",
    "        group_dict['g_' + str(val)].append(predicates[i])"
   ]
  },
  {
   "cell_type": "code",
   "execution_count": null,
   "metadata": {},
   "outputs": [],
   "source": [
    "fit_data = dis_corr[np.argsort(model.row_labels_)]\n",
    "fit_data = fit_data[:, np.argsort(model.column_labels_)]"
   ]
  },
  {
   "cell_type": "code",
   "execution_count": null,
   "metadata": {},
   "outputs": [],
   "source": [
    "plt.matshow(fit_data, cmap='gray')\n",
    "plt.colorbar()\n",
    "plt.show()"
   ]
  },
  {
   "cell_type": "code",
   "execution_count": null,
   "metadata": {},
   "outputs": [],
   "source": [
    "plt.matshow(dis_corr, cmap='gray')\n",
    "plt.colorbar()\n",
    "plt.show()"
   ]
  },
  {
   "cell_type": "code",
   "execution_count": null,
   "metadata": {},
   "outputs": [],
   "source": [
    "pickle.dump(group_dict, open('AwA_dis-linear_groups-6.pkl', 'wb'))"
   ]
  },
  {
   "cell_type": "code",
   "execution_count": null,
   "metadata": {},
   "outputs": [],
   "source": []
  },
  {
   "cell_type": "markdown",
   "metadata": {},
   "source": [
    "### For CUB: co-clustering"
   ]
  },
  {
   "cell_type": "code",
   "execution_count": null,
   "metadata": {},
   "outputs": [],
   "source": [
    "def get_paths_from_file(filepath):\n",
    "\twith open(filepath, 'r') as f:\n",
    "\t\treader = csv.reader(f)\n",
    "\t\treader.next()  # flushing first row which as directory\n",
    "\t\timage_path_with_label = []\n",
    "\t\tfor row in reader:\n",
    "\t\t\timage_path_with_label.append(row)\n",
    "\t\treturn image_path_with_label"
   ]
  },
  {
   "cell_type": "code",
   "execution_count": null,
   "metadata": {},
   "outputs": [],
   "source": [
    "cd ../../CUB/code"
   ]
  },
  {
   "cell_type": "code",
   "execution_count": null,
   "metadata": {},
   "outputs": [],
   "source": [
    "text_file = open(u'../classes.txt', \"r\")\n",
    "classes = text_file.readlines()\n",
    "classes = [x.strip().split(' ')[1] for x in classes ]"
   ]
  },
  {
   "cell_type": "code",
   "execution_count": null,
   "metadata": {},
   "outputs": [],
   "source": [
    "train_data_path =  u'../train_images_gbu.txt'\n",
    "test_data_path =  u'../test_images_gbu.txt'\n",
    "validation_data_path = u'../valid_images_gbu.txt'\n",
    "\n",
    "train_classes = classes[:100]\n",
    "dev_classes = classes[100:150]\n",
    "test_classes = classes[-50:]"
   ]
  },
  {
   "cell_type": "code",
   "execution_count": null,
   "metadata": {},
   "outputs": [],
   "source": [
    "prior_matrix = np.loadtxt(\"../attributes/class_attribute_labels_continuous.txt\")\n",
    "prior_matrix_tr = prior_matrix[:100, :]\n",
    "prior_matrix_ts = prior_matrix[-50:, :]\n",
    "prior_matrix_v = prior_matrix[100:150, :]"
   ]
  },
  {
   "cell_type": "code",
   "execution_count": null,
   "metadata": {},
   "outputs": [],
   "source": [
    "paths = get_paths_from_file(train_data_path)"
   ]
  },
  {
   "cell_type": "code",
   "execution_count": null,
   "metadata": {},
   "outputs": [],
   "source": [
    "train_count_dict = {}\n",
    "for p in paths:\n",
    "    if p[1] not in train_count_dict:\n",
    "        train_count_dict[p[1]] = 1\n",
    "    else:\n",
    "        train_count_dict[p[1]] += 1"
   ]
  },
  {
   "cell_type": "code",
   "execution_count": null,
   "metadata": {},
   "outputs": [],
   "source": [
    "text_file = open(u'../attributes/attributes.txt', \"r\")\n",
    "predicate = text_file.readlines()"
   ]
  },
  {
   "cell_type": "code",
   "execution_count": null,
   "metadata": {},
   "outputs": [],
   "source": [
    "prior_matrix = np.loadtxt(\"../attributes/class_attribute_labels_continuous.txt\")\n",
    "prior_matrix_tr = prior_matrix[:100, :]\n",
    "prior_matrix_ts = prior_matrix[-50:, :]\n",
    "prior_matrix_v = prior_matrix[100:150, :]\n",
    "\n",
    "nb_train_samples = len(get_paths_from_file(train_data_path))\n",
    "nb_validation_samples = len(get_paths_from_file(validation_data_path))\n",
    "nb_test_samples = len(get_paths_from_file(test_data_path))\n",
    "\n",
    "# list of attributes\n",
    "# animal_to_attribute dictionary\n",
    "text_file = open(u'../attributes/attributes.txt', \"r\")\n",
    "predicate = text_file.readlines()\n",
    "\n",
    "# group_to_attribute dictionary\n",
    "from collections import defaultdict\n",
    "predicate_groups = defaultdict(list)\n",
    "\n",
    "for x in predicate:\n",
    "\tgroup = x.strip().split(' ')[1].split('::')[0][4:]\n",
    "\tpredicate_groups[group].append(x)\n",
    "\n",
    "predicates = [x for x in predicate]\n",
    "#predicates = predicate.keys()\n",
    "\n",
    "num_attributes = 0\n",
    "for g in predicate_groups:\n",
    "\tnum_attributes += len(predicate_groups[g])\n",
    "\tprint g, len(predicate_groups[g])\n",
    "\n",
    "predicate = np.load(u'../attributes/image_attribute_labels.npy').item()"
   ]
  },
  {
   "cell_type": "code",
   "execution_count": null,
   "metadata": {},
   "outputs": [],
   "source": [
    "predicate = np.load(u'../attributes/image_attribute_labels.npy').item()"
   ]
  },
  {
   "cell_type": "code",
   "execution_count": null,
   "metadata": {},
   "outputs": [],
   "source": [
    "predicate"
   ]
  },
  {
   "cell_type": "code",
   "execution_count": 17,
   "metadata": {},
   "outputs": [],
   "source": [
    "a=np.load('/Users/soumava/labels_dict.npy', allow_pickle=True).item()"
   ]
  },
  {
   "cell_type": "code",
   "execution_count": 20,
   "metadata": {},
   "outputs": [],
   "source": [
    "b=np.array(list(a.values()))"
   ]
  },
  {
   "cell_type": "code",
   "execution_count": 32,
   "metadata": {},
   "outputs": [],
   "source": [
    "c, indices, counts=np.unique(b, axis=0, return_counts=True, return_inverse=True)"
   ]
  },
  {
   "cell_type": "code",
   "execution_count": 37,
   "metadata": {},
   "outputs": [
    {
     "data": {
      "text/plain": [
       "array([0, 0, 0, 0, 0, 0, 0, 0, 0, 0, 0, 0, 0, 0, 0, 0, 0, 0, 0, 0, 0, 0,\n",
       "       0, 0, 0, 0, 0, 0, 0, 0, 0, 0, 0, 0, 0, 0, 0, 0, 0, 0, 0, 0, 0, 0,\n",
       "       0, 0, 0, 0, 0, 0, 0, 0, 0, 0, 0, 0, 0, 0, 0, 0, 0, 0, 0, 0, 0, 0,\n",
       "       0, 0, 0, 0, 0, 0, 0, 0, 0, 0, 0, 0, 0, 0, 0, 0, 0, 0, 0, 0, 0, 0,\n",
       "       0, 0, 1])"
      ]
     },
     "execution_count": 37,
     "metadata": {},
     "output_type": "execute_result"
    }
   ],
   "source": [
    "c[0]"
   ]
  },
  {
   "cell_type": "code",
   "execution_count": 34,
   "metadata": {},
   "outputs": [
    {
     "data": {
      "text/plain": [
       "2774"
      ]
     },
     "execution_count": 34,
     "metadata": {},
     "output_type": "execute_result"
    }
   ],
   "source": [
    "counts[619]"
   ]
  },
  {
   "cell_type": "code",
   "execution_count": 42,
   "metadata": {},
   "outputs": [
    {
     "data": {
      "text/plain": [
       "13475"
      ]
     },
     "execution_count": 42,
     "metadata": {},
     "output_type": "execute_result"
    }
   ],
   "source": [
    "np.max(indices)"
   ]
  },
  {
   "cell_type": "code",
   "execution_count": 43,
   "metadata": {},
   "outputs": [
    {
     "data": {
      "text/plain": [
       "array([0, 0, 0, 0, 0, 0, 0, 0, 0, 0, 0, 0, 0, 0, 0, 0, 0, 0, 0, 0, 0, 0,\n",
       "       0, 0, 0, 0, 0, 0, 0, 0, 0, 0, 0, 0, 0, 0, 0, 1, 0, 0, 0, 0, 0, 0,\n",
       "       0, 0, 0, 0, 0, 0, 0, 0, 0, 0, 0, 0, 0, 0, 0, 0, 0, 0, 0, 0, 0, 0,\n",
       "       0, 0, 0, 0, 0, 0, 0, 0, 0, 0, 0, 0, 0, 0, 0, 0, 0, 0, 0, 0, 0, 0,\n",
       "       0, 1, 0])"
      ]
     },
     "execution_count": 43,
     "metadata": {},
     "output_type": "execute_result"
    }
   ],
   "source": [
    "c[620]"
   ]
  },
  {
   "cell_type": "code",
   "execution_count": 44,
   "metadata": {},
   "outputs": [
    {
     "data": {
      "text/plain": [
       "array([0, 0, 0, 0, 0, 0, 0, 0, 0, 0, 0, 0, 0, 0, 0, 0, 0, 0, 0, 0, 0, 0,\n",
       "       0, 0, 0, 0, 0, 0, 0, 0, 0, 0, 0, 0, 0, 0, 0, 1, 0, 0, 0, 0, 0, 0,\n",
       "       0, 0, 0, 0, 0, 0, 0, 0, 0, 0, 0, 0, 0, 0, 0, 0, 0, 0, 0, 0, 0, 0,\n",
       "       0, 0, 0, 0, 0, 0, 0, 0, 0, 0, 0, 0, 0, 0, 0, 0, 0, 0, 0, 0, 0, 0,\n",
       "       0, 1, 0])"
      ]
     },
     "execution_count": 44,
     "metadata": {},
     "output_type": "execute_result"
    }
   ],
   "source": [
    "b[0]"
   ]
  }
 ],
 "metadata": {
  "kernelspec": {
   "display_name": "Python 3",
   "language": "python",
   "name": "python3"
  },
  "language_info": {
   "codemirror_mode": {
    "name": "ipython",
    "version": 3
   },
   "file_extension": ".py",
   "mimetype": "text/x-python",
   "name": "python",
   "nbconvert_exporter": "python",
   "pygments_lexer": "ipython3",
   "version": "3.7.3"
  }
 },
 "nbformat": 4,
 "nbformat_minor": 2
}
