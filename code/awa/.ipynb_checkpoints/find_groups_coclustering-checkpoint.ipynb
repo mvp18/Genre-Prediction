{
 "cells": [
  {
   "cell_type": "code",
   "execution_count": 1,
   "metadata": {},
   "outputs": [],
   "source": [
    "import numpy as np\n",
    "import csv\n",
    "import pickle\n",
    "\n",
    "from sklearn.datasets import make_biclusters\n",
    "from sklearn.datasets import samples_generator as sg\n",
    "from sklearn.cluster.bicluster import SpectralCoclustering\n",
    "from sklearn.metrics import consensus_score\n",
    "\n",
    "from matplotlib import pyplot as plt"
   ]
  },
  {
   "cell_type": "code",
   "execution_count": 5,
   "metadata": {},
   "outputs": [],
   "source": [
    "def get_paths_from_file(filepath):\n",
    "\twith open(filepath, 'r') as f:\n",
    "\t\treader = csv.reader(f)\n",
    "\t\tnext(reader)  # flushing first row which as directory\n",
    "\t\timage_path_with_label = []\n",
    "\t\tfor row in reader:\n",
    "\t\t\timage_path_with_label.append(row)\n",
    "\t\treturn image_path_with_label"
   ]
  },
  {
   "cell_type": "code",
   "execution_count": 6,
   "metadata": {},
   "outputs": [],
   "source": [
    "text_file = open(u'predicate-matrix-binary.txt', \"r\")\n",
    "predicate = text_file.readlines()\n",
    "predicate = [x.strip().strip(\"'\").split(' ') for x in predicate]\n",
    "text_file = open(u'classes.txt', \"r\")\n",
    "classes = text_file.readlines()\n",
    "classes = [x.strip().split('\\t')[1] for x in classes]\n",
    "predicate = dict(zip(classes, predicate))\n",
    "\n",
    "text_file = open(u'predicates.txt', \"r\")\n",
    "predicates = text_file.readlines()\n",
    "predicates = [x.strip().split('\\t')[1] for x in predicates]\n",
    "\n",
    "train_data_path = 'image_paths_ZSL_GBU_train.txt'\n",
    "validation_data_path = 'image_paths_ZSL_GBU_dev.txt'\n",
    "test_data_path = 'image_paths_ZSL_GBU_test.txt'\n",
    "\n",
    "train_classes = list(set([line[1].strip() for line in get_paths_from_file(train_data_path)]))\n",
    "dev_classes = list(set([line[1].strip() for line in get_paths_from_file(validation_data_path)]))\n",
    "test_classes = list(set([line[1].strip() for line in get_paths_from_file(test_data_path)]))"
   ]
  },
  {
   "cell_type": "code",
   "execution_count": 7,
   "metadata": {},
   "outputs": [],
   "source": [
    "paths = get_paths_from_file(train_data_path)"
   ]
  },
  {
   "cell_type": "code",
   "execution_count": 8,
   "metadata": {},
   "outputs": [],
   "source": [
    "train_count_dict = {}\n",
    "for p in paths:\n",
    "    if p[1] not in train_count_dict:\n",
    "        train_count_dict[p[1]] = 1\n",
    "    else:\n",
    "        train_count_dict[p[1]] += 1"
   ]
  },
  {
   "cell_type": "code",
   "execution_count": 9,
   "metadata": {},
   "outputs": [
    {
     "data": {
      "text/plain": [
       "{'lion': 1019,\n",
       " 'grizzly+bear': 852,\n",
       " 'cow': 1338,\n",
       " 'collie': 1028,\n",
       " 'chihuahua': 567,\n",
       " 'siamese+cat': 500,\n",
       " 'buffalo': 895,\n",
       " 'squirrel': 1200,\n",
       " 'otter': 758,\n",
       " 'polar+bear': 868,\n",
       " 'pig': 713,\n",
       " 'killer+whale': 291,\n",
       " 'mouse': 185,\n",
       " 'wolf': 589,\n",
       " 'zebra': 1170,\n",
       " 'rhinoceros': 696,\n",
       " 'tiger': 877,\n",
       " 'antelope': 1046,\n",
       " 'fox': 664,\n",
       " 'german+shepherd': 1033,\n",
       " 'persian+cat': 747,\n",
       " 'humpback+whale': 709,\n",
       " 'hippopotamus': 684,\n",
       " 'elephant': 1038,\n",
       " 'weasel': 272,\n",
       " 'skunk': 188,\n",
       " 'spider+monkey': 291}"
      ]
     },
     "execution_count": 9,
     "metadata": {},
     "output_type": "execute_result"
    }
   ],
   "source": [
    "train_count_dict"
   ]
  },
  {
   "cell_type": "code",
   "execution_count": 10,
   "metadata": {},
   "outputs": [],
   "source": [
    "train_attribute_mat = np.zeros((85,27))"
   ]
  },
  {
   "cell_type": "code",
   "execution_count": 11,
   "metadata": {},
   "outputs": [],
   "source": [
    "for i,c in enumerate(train_classes):\n",
    "    for j in range(len(predicate[c])):\n",
    "        train_attribute_mat[j,i] = train_count_dict[c]*float(predicate[c][j])"
   ]
  },
  {
   "cell_type": "code",
   "execution_count": 12,
   "metadata": {},
   "outputs": [],
   "source": [
    "test_attribute_mat = np.zeros((85,10))"
   ]
  },
  {
   "cell_type": "code",
   "execution_count": 13,
   "metadata": {},
   "outputs": [],
   "source": [
    "for i,c in enumerate(test_classes):\n",
    "    for j in range(len(predicate[c])):\n",
    "        test_attribute_mat[j,i] = float(predicate[c][j])"
   ]
  },
  {
   "cell_type": "code",
   "execution_count": 14,
   "metadata": {},
   "outputs": [
    {
     "data": {
      "text/plain": [
       "array([[ 291.,  758.,    0., ...,    0.,  852.,  272.],\n",
       "       [   0.,    0., 1028., ...,    0.,    0.,    0.],\n",
       "       [   0.,    0.,    0., ...,    0.,    0.,    0.],\n",
       "       ...,\n",
       "       [   0.,  758., 1028., ...,  684.,  852.,  272.],\n",
       "       [ 291.,  758.,    0., ...,    0.,    0.,    0.],\n",
       "       [   0.,    0., 1028., ...,    0.,    0.,    0.]])"
      ]
     },
     "execution_count": 14,
     "metadata": {},
     "output_type": "execute_result"
    }
   ],
   "source": [
    "train_attribute_mat"
   ]
  },
  {
   "cell_type": "code",
   "execution_count": 22,
   "metadata": {},
   "outputs": [],
   "source": [
    "corr_train = np.corrcoef(train_attribute_mat)\n",
    "nans = np.isnan(corr_train)\n",
    "corr_train[nans] = 0"
   ]
  },
  {
   "cell_type": "code",
   "execution_count": 29,
   "metadata": {
    "collapsed": true
   },
   "outputs": [],
   "source": [
    "corr_test = np.corrcoef(test_attribute_mat)\n",
    "nans = np.isnan(corr_test)\n",
    "corr_test[nans] = 0"
   ]
  },
  {
   "cell_type": "code",
   "execution_count": 38,
   "metadata": {},
   "outputs": [],
   "source": [
    "def diff_corr(corr_train, corr_test):\n",
    "    dis_corr = (corr_train - corr_test)\n",
    "    dis_corr = np.sign(corr_train)*dis_corr\n",
    "    return dis_corr.clip(0,np.inf)"
   ]
  },
  {
   "cell_type": "code",
   "execution_count": 174,
   "metadata": {
    "collapsed": true
   },
   "outputs": [],
   "source": [
    "dis_corr = diff_corr(corr_train, corr_test)\n",
    "dis_corr += 0.01*np.random.rand(len(corr_train), len(corr_train))"
   ]
  },
  {
   "cell_type": "code",
   "execution_count": 79,
   "metadata": {},
   "outputs": [],
   "source": [
    "dis_corr += np.random.rand()"
   ]
  },
  {
   "cell_type": "code",
   "execution_count": 156,
   "metadata": {},
   "outputs": [
    {
     "name": "stdout",
     "output_type": "stream",
     "text": [
      "1.123334419077459\n",
      "0.32059077857555973\n",
      "-0.8017837257372734\n",
      "mountains\n",
      "big\n"
     ]
    }
   ],
   "source": [
    "dis_corr[loc[0], loc[1]] = 0.0\n",
    "print dis_corr.max()\n",
    "loc = np.unravel_index(dis_corr.argmax(), dis_corr.shape)\n",
    "print corr_train[loc[0], loc[1]]\n",
    "print corr_test[loc[0], loc[1]]\n",
    "print predicates[loc[0]]\n",
    "print predicates[loc[1]]"
   ]
  },
  {
   "cell_type": "code",
   "execution_count": 65,
   "metadata": {},
   "outputs": [
    {
     "data": {
      "text/plain": [
       "['sheep',\n",
       " 'horse',\n",
       " 'blue+whale',\n",
       " 'dolphin',\n",
       " 'bat',\n",
       " 'rat',\n",
       " 'giraffe',\n",
       " 'seal',\n",
       " 'bobcat',\n",
       " 'walrus']"
      ]
     },
     "execution_count": 65,
     "metadata": {},
     "output_type": "execute_result"
    }
   ],
   "source": [
    "test_classes"
   ]
  },
  {
   "cell_type": "code",
   "execution_count": 198,
   "metadata": {},
   "outputs": [],
   "source": [
    "def find_class(attribute):\n",
    "    train = {'pos':[], 'neg':[]}\n",
    "    test = {'pos':[], 'neg':[]}\n",
    "    idx = predicates.index(attribute)\n",
    "    for c in predicate:\n",
    "        attr = predicate[c]\n",
    "        if c in train_classes:\n",
    "            if attr[idx] == '1':\n",
    "                train['pos'].append(c)\n",
    "            else:\n",
    "                train['neg'].append(c)\n",
    "        elif c in test_classes:\n",
    "            if attr[idx] == '1':\n",
    "                test['pos'].append(c)\n",
    "            else:\n",
    "                test['neg'].append(c)\n",
    "    return train, test"
   ]
  },
  {
   "cell_type": "code",
   "execution_count": 220,
   "metadata": {},
   "outputs": [
    {
     "data": {
      "text/plain": [
       "{'neg': ['blue+whale', 'seal', 'horse', 'dolphin', 'giraffe', 'walrus', 'rat'],\n",
       " 'pos': ['sheep', 'bobcat', 'bat']}"
      ]
     },
     "execution_count": 220,
     "metadata": {},
     "output_type": "execute_result"
    }
   ],
   "source": [
    "train, test = find_class('mountains')\n",
    "test"
   ]
  },
  {
   "cell_type": "code",
   "execution_count": 175,
   "metadata": {},
   "outputs": [
    {
     "data": {
      "text/plain": [
       "SpectralCoclustering(init='k-means++', mini_batch=False, n_clusters=6,\n",
       "           n_init=10, n_jobs=1, n_svd_vecs=None, random_state=0,\n",
       "           svd_method='randomized')"
      ]
     },
     "execution_count": 175,
     "metadata": {},
     "output_type": "execute_result"
    }
   ],
   "source": [
    "model = SpectralCoclustering(n_clusters=6, random_state=0)\n",
    "model.fit(dis_corr)"
   ]
  },
  {
   "cell_type": "code",
   "execution_count": 178,
   "metadata": {
    "collapsed": true
   },
   "outputs": [],
   "source": [
    "group_dict = {}\n",
    "for i,val in enumerate(model.row_labels_):\n",
    "    if 'g_' + str(val) not in group_dict:\n",
    "        group_dict['g_' + str(val)] = [predicates[i]]\n",
    "    else:\n",
    "        group_dict['g_' + str(val)].append(predicates[i])"
   ]
  },
  {
   "cell_type": "code",
   "execution_count": 170,
   "metadata": {},
   "outputs": [],
   "source": [
    "fit_data = dis_corr[np.argsort(model.row_labels_)]\n",
    "fit_data = fit_data[:, np.argsort(model.column_labels_)]"
   ]
  },
  {
   "cell_type": "code",
   "execution_count": 176,
   "metadata": {},
   "outputs": [
    {
     "data": {
      "image/png": "[encoded data removed]",
      "text/plain": [
       "<matplotlib.figure.Figure at 0x1a205a6290>"
      ]
     },
     "metadata": {},
     "output_type": "display_data"
    }
   ],
   "source": [
    "plt.matshow(fit_data, cmap='gray')\n",
    "plt.colorbar()\n",
    "plt.show()"
   ]
  },
  {
   "cell_type": "code",
   "execution_count": 168,
   "metadata": {},
   "outputs": [
    {
     "data": {
      "image/png": "[encoded data removed]",
      "text/plain": [
       "<matplotlib.figure.Figure at 0x1a20c14a50>"
      ]
     },
     "metadata": {},
     "output_type": "display_data"
    }
   ],
   "source": [
    "plt.matshow(dis_corr, cmap='gray')\n",
    "plt.colorbar()\n",
    "plt.show()"
   ]
  },
  {
   "cell_type": "code",
   "execution_count": 183,
   "metadata": {},
   "outputs": [],
   "source": [
    "pickle.dump(group_dict, open('AwA_dis-linear_groups-6.pkl', 'wb'))"
   ]
  },
  {
   "cell_type": "code",
   "execution_count": null,
   "metadata": {
    "collapsed": true
   },
   "outputs": [],
   "source": []
  },
  {
   "cell_type": "markdown",
   "metadata": {},
   "source": [
    "### For CUB: co-clustering"
   ]
  },
  {
   "cell_type": "code",
   "execution_count": 202,
   "metadata": {
    "collapsed": true
   },
   "outputs": [],
   "source": [
    "def get_paths_from_file(filepath):\n",
    "\twith open(filepath, 'r') as f:\n",
    "\t\treader = csv.reader(f)\n",
    "\t\treader.next()  # flushing first row which as directory\n",
    "\t\timage_path_with_label = []\n",
    "\t\tfor row in reader:\n",
    "\t\t\timage_path_with_label.append(row)\n",
    "\t\treturn image_path_with_label"
   ]
  },
  {
   "cell_type": "code",
   "execution_count": 221,
   "metadata": {},
   "outputs": [
    {
     "name": "stdout",
     "output_type": "stream",
     "text": [
      "/Users/saneem/Documents/Saneem/Research@IBM/Leaf_disease_identification/git_detect/Detect/CUB/code\n"
     ]
    }
   ],
   "source": [
    "cd ../../CUB/code"
   ]
  },
  {
   "cell_type": "code",
   "execution_count": 222,
   "metadata": {},
   "outputs": [],
   "source": [
    "text_file = open(u'../classes.txt', \"r\")\n",
    "classes = text_file.readlines()\n",
    "classes = [x.strip().split(' ')[1] for x in classes ]"
   ]
  },
  {
   "cell_type": "code",
   "execution_count": 223,
   "metadata": {},
   "outputs": [],
   "source": [
    "train_data_path =  u'../train_images_gbu.txt'\n",
    "test_data_path =  u'../test_images_gbu.txt'\n",
    "validation_data_path = u'../valid_images_gbu.txt'\n",
    "\n",
    "train_classes = classes[:100]\n",
    "dev_classes = classes[100:150]\n",
    "test_classes = classes[-50:]"
   ]
  },
  {
   "cell_type": "code",
   "execution_count": 225,
   "metadata": {
    "collapsed": true
   },
   "outputs": [],
   "source": [
    "prior_matrix = np.loadtxt(\"../attributes/class_attribute_labels_continuous.txt\")\n",
    "prior_matrix_tr = prior_matrix[:100, :]\n",
    "prior_matrix_ts = prior_matrix[-50:, :]\n",
    "prior_matrix_v = prior_matrix[100:150, :]"
   ]
  },
  {
   "cell_type": "code",
   "execution_count": 226,
   "metadata": {
    "collapsed": true
   },
   "outputs": [],
   "source": [
    "paths = get_paths_from_file(train_data_path)"
   ]
  },
  {
   "cell_type": "code",
   "execution_count": 228,
   "metadata": {},
   "outputs": [],
   "source": [
    "train_count_dict = {}\n",
    "for p in paths:\n",
    "    if p[1] not in train_count_dict:\n",
    "        train_count_dict[p[1]] = 1\n",
    "    else:\n",
    "        train_count_dict[p[1]] += 1"
   ]
  },
  {
   "cell_type": "code",
   "execution_count": 234,
   "metadata": {},
   "outputs": [],
   "source": [
    "text_file = open(u'../attributes/attributes.txt', \"r\")\n",
    "predicate = text_file.readlines()"
   ]
  },
  {
   "cell_type": "code",
   "execution_count": 237,
   "metadata": {},
   "outputs": [
    {
     "name": "stdout",
     "output_type": "stream",
     "text": [
      "belly_color 15\n",
      "belly_pattern 4\n",
      "forehead_color 15\n",
      "shape 14\n",
      "wing_color 15\n",
      "size 5\n",
      "head_pattern 11\n",
      "upperparts_color 15\n",
      "crown_color 15\n",
      "back_color 15\n",
      "primary_color 15\n",
      "leg_color 15\n",
      "upper_tail_color 15\n",
      "throat_color 15\n",
      "wing_shape 5\n",
      "nape_color 15\n",
      "bill_color 15\n",
      "bill_shape 9\n",
      "under_tail_color 15\n",
      "eye_color 14\n",
      "back_pattern 4\n",
      "breast_color 15\n",
      "wing_pattern 4\n",
      "tail_shape 6\n",
      "underparts_color 15\n",
      "tail_pattern 4\n",
      "breast_pattern 4\n",
      "bill_length 3\n"
     ]
    }
   ],
   "source": [
    "prior_matrix = np.loadtxt(\"../attributes/class_attribute_labels_continuous.txt\")\n",
    "prior_matrix_tr = prior_matrix[:100, :]\n",
    "prior_matrix_ts = prior_matrix[-50:, :]\n",
    "prior_matrix_v = prior_matrix[100:150, :]\n",
    "\n",
    "nb_train_samples = len(get_paths_from_file(train_data_path))\n",
    "nb_validation_samples = len(get_paths_from_file(validation_data_path))\n",
    "nb_test_samples = len(get_paths_from_file(test_data_path))\n",
    "\n",
    "# list of attributes\n",
    "# animal_to_attribute dictionary\n",
    "text_file = open(u'../attributes/attributes.txt', \"r\")\n",
    "predicate = text_file.readlines()\n",
    "\n",
    "# group_to_attribute dictionary\n",
    "from collections import defaultdict\n",
    "predicate_groups = defaultdict(list)\n",
    "\n",
    "for x in predicate:\n",
    "\tgroup = x.strip().split(' ')[1].split('::')[0][4:]\n",
    "\tpredicate_groups[group].append(x)\n",
    "\n",
    "predicates = [x for x in predicate]\n",
    "#predicates = predicate.keys()\n",
    "\n",
    "num_attributes = 0\n",
    "for g in predicate_groups:\n",
    "\tnum_attributes += len(predicate_groups[g])\n",
    "\tprint g, len(predicate_groups[g])\n",
    "\n",
    "predicate = np.load(u'../attributes/image_attribute_labels.npy').item()"
   ]
  },
  {
   "cell_type": "code",
   "execution_count": 243,
   "metadata": {},
   "outputs": [],
   "source": [
    "predicate = np.load(u'../attributes/image_attribute_labels.npy').item()"
   ]
  },
  {
   "cell_type": "code",
   "execution_count": 245,
   "metadata": {},
   "outputs": [
    {
     "data": {
      "text/plain": [
       "11788"
      ]
     },
     "execution_count": 245,
     "metadata": {},
     "output_type": "execute_result"
    }
   ],
   "source": [
    "predicate"
   ]
  },
  {
   "cell_type": "code",
   "execution_count": null,
   "metadata": {
    "collapsed": true
   },
   "outputs": [],
   "source": []
  }
 ],
 "metadata": {
  "kernelspec": {
   "display_name": "Python 3",
   "language": "python",
   "name": "python3"
  },
  "language_info": {
   "codemirror_mode": {
    "name": "ipython",
    "version": 3
   },
   "file_extension": ".py",
   "mimetype": "text/x-python",
   "name": "python",
   "nbconvert_exporter": "python",
   "pygments_lexer": "ipython3",
   "version": "3.7.3"
  }
 },
 "nbformat": 4,
 "nbformat_minor": 2
}
