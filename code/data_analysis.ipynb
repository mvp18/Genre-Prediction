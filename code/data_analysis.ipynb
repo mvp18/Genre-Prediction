{
 "cells": [
  {
   "cell_type": "code",
   "execution_count": 21,
   "metadata": {},
   "outputs": [],
   "source": [
    "import csv\n",
    "import numpy as np\n",
    "import operator"
   ]
  },
  {
   "cell_type": "code",
   "execution_count": 2,
   "metadata": {},
   "outputs": [
    {
     "name": "stdout",
     "output_type": "stream",
     "text": [
      "README.txt              movie.metadata.tsv      tvtropes.clusters.txt\r\n",
      "Untitled.ipynb          name.clusters.txt\r\n",
      "character.metadata.tsv  plot_summaries.txt\r\n"
     ]
    }
   ],
   "source": [
    "ls"
   ]
  },
  {
   "cell_type": "code",
   "execution_count": 12,
   "metadata": {
    "collapsed": true
   },
   "outputs": [],
   "source": [
    "reader = csv.reader(open('movie.metadata.tsv'), delimiter='\\t')\n",
    "metadata = []\n",
    "for row in reader:\n",
    "    metadata.append(row)"
   ]
  },
  {
   "cell_type": "code",
   "execution_count": 14,
   "metadata": {},
   "outputs": [],
   "source": [
    "reader = csv.reader(open('plot_summaries.txt'), delimiter='\\t')\n",
    "plot_data = []\n",
    "plot_id_dict = {}\n",
    "count = 0\n",
    "for row in reader:\n",
    "    plot_id_dict[row[0]] = count\n",
    "    plot_data.append(row)\n",
    "    count += 1"
   ]
  },
  {
   "cell_type": "code",
   "execution_count": 27,
   "metadata": {},
   "outputs": [
    {
     "name": "stdout",
     "output_type": "stream",
     "text": [
      "Number of movies = 42204\n"
     ]
    }
   ],
   "source": [
    "mdata_with_plot = []\n",
    "for d in metadata:\n",
    "    if d[0] in plot_id_dict:\n",
    "        mdata_with_plot.append(d)\n",
    "print 'Number of movies = ' + str(len(mdata_with_plot))"
   ]
  },
  {
   "cell_type": "code",
   "execution_count": 19,
   "metadata": {},
   "outputs": [],
   "source": [
    "genres_dict = {}\n",
    "for m in mdata_with_plot:\n",
    "    gdict = eval(m[-1])\n",
    "    for g in gdict:\n",
    "        if gdict[g] not in genres_dict:\n",
    "            genres_dict[gdict[g]] = 1\n",
    "        else:\n",
    "            genres_dict[gdict[g]] += 1"
   ]
  },
  {
   "cell_type": "code",
   "execution_count": 25,
   "metadata": {},
   "outputs": [],
   "source": [
    "sorted_genres = sorted(genres_dict.items(), key=operator.itemgetter(1), reverse=True)"
   ]
  },
  {
   "cell_type": "code",
   "execution_count": 28,
   "metadata": {},
   "outputs": [
    {
     "data": {
      "text/plain": [
       "[('Drama', 19134),\n",
       " ('Comedy', 10467),\n",
       " ('Romance Film', 6666),\n",
       " ('Thriller', 6530),\n",
       " ('Action', 5868),\n",
       " ('World cinema', 5153),\n",
       " ('Crime Fiction', 4275),\n",
       " ('Horror', 4082),\n",
       " ('Black-and-white', 3731),\n",
       " ('Indie', 3668),\n",
       " ('Action/Adventure', 3553),\n",
       " ('Adventure', 3248),\n",
       " ('Family Film', 3219),\n",
       " ('Short Film', 3192),\n",
       " ('Romantic drama', 2572),\n",
       " ('Animation', 2441),\n",
       " ('Musical', 2414),\n",
       " ('Science Fiction', 2339),\n",
       " ('Mystery', 2119),\n",
       " ('Romantic comedy', 2075),\n",
       " ('Fantasy', 2012),\n",
       " ('Comedy film', 1778),\n",
       " ('Crime Thriller', 1682),\n",
       " ('War film', 1556),\n",
       " ('Period piece', 1321),\n",
       " ('Japanese Movies', 1290),\n",
       " ('Comedy-drama', 1261),\n",
       " ('Film adaptation', 1225),\n",
       " ('Documentary', 1213),\n",
       " ('Silent film', 1199),\n",
       " ('Psychological thriller', 1138),\n",
       " ('Bollywood', 1058),\n",
       " ('Western', 1022),\n",
       " ('Chinese Movies', 998),\n",
       " ('Black comedy', 834),\n",
       " ('LGBT', 825),\n",
       " ('Teen', 824),\n",
       " ('Parody', 767),\n",
       " ('Family Drama', 766),\n",
       " (\"Children's/Family\", 759),\n",
       " ('Coming of age', 741),\n",
       " ('Martial Arts Film', 706),\n",
       " ('Cult', 680),\n",
       " ('Sports', 672),\n",
       " ('Television movie', 665),\n",
       " ('Slasher', 654),\n",
       " ('Suspense', 651),\n",
       " ('Biographical film', 625),\n",
       " ('Biography', 592),\n",
       " ('Supernatural', 571)]"
      ]
     },
     "execution_count": 28,
     "metadata": {},
     "output_type": "execute_result"
    }
   ],
   "source": [
    "sorted_genres[:50]"
   ]
  },
  {
   "cell_type": "code",
   "execution_count": null,
   "metadata": {
    "collapsed": true
   },
   "outputs": [],
   "source": []
  }
 ],
 "metadata": {
  "kernelspec": {
   "display_name": "Python 2",
   "language": "python",
   "name": "python2"
  },
  "language_info": {
   "codemirror_mode": {
    "name": "ipython",
    "version": 2
   },
   "file_extension": ".py",
   "mimetype": "text/x-python",
   "name": "python",
   "nbconvert_exporter": "python",
   "pygments_lexer": "ipython2",
   "version": "2.7.13"
  }
 },
 "nbformat": 4,
 "nbformat_minor": 2
}
