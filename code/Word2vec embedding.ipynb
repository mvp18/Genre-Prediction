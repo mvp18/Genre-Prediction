{
 "cells": [
  {
   "cell_type": "code",
   "execution_count": 1,
   "metadata": {},
   "outputs": [],
   "source": [
    "def tag_pos(x):\n",
    "    sentences = sent_tokenize(x)\n",
    "    sents = []\n",
    "    for s in sentences:\n",
    "        text = word_tokenize(s)\n",
    "        pos_tagged = pos_tag(text)\n",
    "        simplified_tags = [\n",
    "            (word, map_tag('en-ptb', 'universal', tag)) for word, tag in pos_tagged]\n",
    "        sents.append(simplified_tags)\n",
    "    return sents"
   ]
  },
  {
   "cell_type": "code",
   "execution_count": null,
   "metadata": {},
   "outputs": [],
   "source": [
    "def post_tag_documents(data_df):\n",
    "    x_data = []\n",
    "    y_data = []\n",
    "    total = len(data_df['plot'].as_matrix().tolist())\n",
    "    plots = data_df['plot'].as_matrix().tolist()\n",
    "    genres = data_df.drop(['plot', 'title', 'plot_lang'], axis=1).as_matrix()\n",
    "    for i in range(len(plots)):\n",
    "        sents = tag_pos(plots[i])\n",
    "        x_data.append(sents)\n",
    "        y_data.append(genres[i])\n",
    "        i += 1\n",
    "        if i % 5000 == 0:\n",
    "            print(i, \"/\", total)\n",
    "    return x_data, y_data"
   ]
  }
 ],
 "metadata": {
  "kernelspec": {
   "display_name": "Python 3",
   "language": "python",
   "name": "python3"
  },
  "language_info": {
   "codemirror_mode": {
    "name": "ipython",
    "version": 3
   },
   "file_extension": ".py",
   "mimetype": "text/x-python",
   "name": "python",
   "nbconvert_exporter": "python",
   "pygments_lexer": "ipython3",
   "version": "3.7.3"
  }
 },
 "nbformat": 4,
 "nbformat_minor": 2
}
