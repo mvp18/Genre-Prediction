{
 "cells": [
  {
   "cell_type": "code",
   "execution_count": 2,
   "metadata": {},
   "outputs": [],
   "source": [
    "from gensim.models import KeyedVectors\n",
    "from gensim.models.doc2vec import TaggedDocument, Doc2Vec\n",
    "\n",
    "from sklearn.feature_extraction.text import TfidfVectorizer\n",
    "from sklearn.linear_model import LogisticRegression\n",
    "from sklearn.model_selection import GridSearchCV\n",
    "from sklearn.model_selection import StratifiedShuffleSplit\n",
    "from sklearn.naive_bayes import MultinomialNB\n",
    "from sklearn.pipeline import Pipeline\n",
    "from sklearn.svm import LinearSVC\n",
    "from sklearn.svm import SVC\n",
    "from sklearn.multiclass import OneVsRestClassifier\n",
    "from sklearn.metrics import classification_report\n",
    "\n",
    "from nltk import sent_tokenize\n",
    "from nltk import pos_tag\n",
    "from nltk import map_tag\n",
    "from nltk import word_tokenize\n",
    "from nltk.corpus import stopwords"
   ]
  },
  {
   "cell_type": "code",
   "execution_count": 9,
   "metadata": {},
   "outputs": [],
   "source": [
    "# Load NLTK's English stop-words list\n",
    "stop_words = set(stopwords.words('english'))\n",
    "\n",
    "\n",
    "#\n",
    "# embeddings vector representations\n",
    "#\n",
    "\n",
    "def tag_pos(x):\n",
    "    sentences = sent_tokenize(x)\n",
    "    sents = []\n",
    "    for s in sentences:\n",
    "        text = word_tokenize(s)\n",
    "        pos_tagged = pos_tag(text)\n",
    "        simplified_tags = [\n",
    "            (word, map_tag('en-ptb', 'universal', tag)) for word, tag in pos_tagged]\n",
    "        sents.append(simplified_tags)\n",
    "    return sents"
   ]
  },
  {
   "cell_type": "code",
   "execution_count": 12,
   "metadata": {},
   "outputs": [
    {
     "data": {
      "text/plain": [
       "[[('I', 'PRON'), ('am', 'VERB'), ('Groot', 'NOUN'), ('.', '.')]]"
      ]
     },
     "execution_count": 12,
     "metadata": {},
     "output_type": "execute_result"
    }
   ],
   "source": [
    "def post_tag_documents(data_df):\n",
    "    x_data = []\n",
    "    y_data = []\n",
    "    total = len(data_df['plot'].as_matrix().tolist())\n",
    "    plots = data_df['plot'].as_matrix().tolist()\n",
    "    genres = data_df.drop(['plot', 'title', 'plot_lang'], axis=1).as_matrix()\n",
    "    for i in range(len(plots)):\n",
    "        sents = tag_pos(plots[i])\n",
    "        x_data.append(sents)\n",
    "        y_data.append(genres[i])\n",
    "        i += 1\n",
    "        if i % 5000 == 0:\n",
    "            print i, \"/\", total\n",
    "\n",
    "    return x_data, y_data"
   ]
  }
 ],
 "metadata": {
  "kernelspec": {
   "display_name": "Python 3",
   "language": "python",
   "name": "python3"
  },
  "language_info": {
   "codemirror_mode": {
    "name": "ipython",
    "version": 3
   },
   "file_extension": ".py",
   "mimetype": "text/x-python",
   "name": "python",
   "nbconvert_exporter": "python",
   "pygments_lexer": "ipython3",
   "version": "3.7.3"
  }
 },
 "nbformat": 4,
 "nbformat_minor": 2
}
