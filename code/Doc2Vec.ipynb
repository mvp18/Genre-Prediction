{
 "cells": [
  {
   "cell_type": "code",
   "execution_count": 2,
   "metadata": {},
   "outputs": [],
   "source": [
    "from gensim.models import KeyedVectors\n",
    "from gensim.models.doc2vec import TaggedDocument, Doc2Vec\n",
    "\n",
    "from sklearn.feature_extraction.text import TfidfVectorizer\n",
    "from sklearn.linear_model import LogisticRegression\n",
    "from sklearn.model_selection import GridSearchCV\n",
    "from sklearn.model_selection import StratifiedShuffleSplit\n",
    "from sklearn.naive_bayes import MultinomialNB\n",
    "from sklearn.pipeline import Pipeline\n",
    "from sklearn.svm import LinearSVC\n",
    "from sklearn.svm import SVC\n",
    "from sklearn.multiclass import OneVsRestClassifier\n",
    "from sklearn.metrics import classification_report\n",
    "\n",
    "from nltk import sent_tokenize\n",
    "from nltk import pos_tag\n",
    "from nltk import map_tag\n",
    "from nltk import word_tokenize\n",
    "from nltk.corpus import stopwords"
   ]
  },
  {
   "cell_type": "code",
   "execution_count": 9,
   "metadata": {},
   "outputs": [],
   "source": [
    "# Load NLTK's English stop-words list\n",
    "stop_words = set(stopwords.words('english'))\n",
    "\n",
    "def tag_pos(x):\n",
    "    sentences = sent_tokenize(x)\n",
    "    sents = []\n",
    "    for s in sentences:\n",
    "        text = word_tokenize(s)\n",
    "        pos_tagged = pos_tag(text)\n",
    "        simplified_tags = [\n",
    "            (word, map_tag('en-ptb', 'universal', tag)) for word, tag in pos_tagged]\n",
    "        sents.append(simplified_tags)\n",
    "    return sents"
   ]
  },
  {
   "cell_type": "code",
   "execution_count": 2,
   "metadata": {},
   "outputs": [],
   "source": [
    "def post_tag_documents(data_df):\n",
    "    x_data = []\n",
    "    y_data = []\n",
    "    total = len(data_df['plot'].as_matrix().tolist())\n",
    "    plots = data_df['plot'].as_matrix().tolist()\n",
    "    genres = data_df.drop(['plot', 'title', 'plot_lang'], axis=1).as_matrix()\n",
    "    for i in range(len(plots)):\n",
    "        sents = tag_pos(plots[i])\n",
    "        x_data.append(sents)\n",
    "        y_data.append(genres[i])\n",
    "        i += 1\n",
    "        if i % 5000 == 0:\n",
    "            print(i, \"/\", total)\n",
    "    return x_data, y_data"
   ]
  },
  {
   "cell_type": "code",
   "execution_count": 4,
   "metadata": {},
   "outputs": [],
   "source": [
    "def doc2vec(data_df):\n",
    "    data = []\n",
    "    print(\"Building TaggedDocuments\")\n",
    "    total = len(data_df[['title', 'plot']].as_matrix().tolist())\n",
    "    processed = 0\n",
    "    for x in data_df[['title', 'plot']].as_matrix().tolist():\n",
    "        label = [\"_\".join(x[0].split())]\n",
    "        words = []\n",
    "        sentences = sent_tokenize(x[1].decode(\"utf8\"))\n",
    "        for s in sentences:\n",
    "            words.extend([x.lower() for x in word_tokenize(s)])\n",
    "        doc = TaggedDocument(words, label)\n",
    "        data.append(doc)\n",
    "\n",
    "        processed += 1\n",
    "        if processed % 10000 == 0:\n",
    "            print(processed, \"/\", total)\n",
    "\n",
    "    model = Doc2Vec(min_count=1, window=10, size=300, sample=1e-4, negative=5, workers=2)\n",
    "    print(\"Building Vocabulary\")\n",
    "    model.build_vocab(data)\n",
    "\n",
    "    for epoch in range(20):\n",
    "        print(\"Training epoch %s\" % epoch)\n",
    "        model.train(data)\n",
    "        model.alpha -= 0.002  # decrease the learning rate\n",
    "        model.min_alpha = model.alpha  # fix the learning rate, no decay\n",
    "        model.train(data)\n",
    "\n",
    "    # Build doc2vec vectors\n",
    "    x_data = []\n",
    "    y_data = []\n",
    "    genres = data_df.drop(['title', 'plot', 'plot_lang'], axis=1).as_matrix()\n",
    "    names = data_df[['title']].as_matrix().tolist()\n",
    "    for i in range(len(names)):\n",
    "        name = names[i][0]\n",
    "        label = \"_\".join(name.split())\n",
    "        x_data.append(model.docvecs[label])\n",
    "        y_data.append(genres[i])\n",
    "\n",
    "    return np.array(x_data), np.array(y_data)\n"
   ]
  },
  {
   "cell_type": "code",
   "execution_count": null,
   "metadata": {},
   "outputs": [],
   "source": []
  }
 ],
 "metadata": {
  "kernelspec": {
   "display_name": "Python 3",
   "language": "python",
   "name": "python3"
  },
  "language_info": {
   "codemirror_mode": {
    "name": "ipython",
    "version": 3
   },
   "file_extension": ".py",
   "mimetype": "text/x-python",
   "name": "python",
   "nbconvert_exporter": "python",
   "pygments_lexer": "ipython3",
   "version": "3.7.3"
  }
 },
 "nbformat": 4,
 "nbformat_minor": 2
}
