{
 "cells": [
  {
   "cell_type": "code",
   "execution_count": null,
   "metadata": {},
   "outputs": [],
   "source": [
    "import pandas as pd\n",
    "import numpy as np\n",
    "import json\n",
    "import re\n",
    "import csv\n",
    "import pickle\n",
    "from tqdm import tqdm\n",
    "from sklearn.preprocessing import MultiLabelBinarizer"
   ]
  },
  {
   "cell_type": "code",
   "execution_count": null,
   "metadata": {},
   "outputs": [],
   "source": [
    "class wordRemover():\n",
    "    def __init__(self, word):\n",
    "        self.word = word\n",
    "        \n",
    "    def removeWord(self, listOfWords):\n",
    "        if self.word in listOfWords:\n",
    "            index = listOfWords.index(self.word)\n",
    "            del listOfWords[index]\n",
    "        return listOfWords"
   ]
  },
  {
   "cell_type": "code",
   "execution_count": null,
   "metadata": {},
   "outputs": [],
   "source": [
    "METADATA_PATH = \"/Users/soumava/Genre-Prediction/data/movie.metadata.tsv\"\n",
    "PLOT_SUMMARIES_PATH = \"/Users/soumava/Genre-Prediction/data/plot_summaries.txt\""
   ]
  },
  {
   "cell_type": "code",
   "execution_count": null,
   "metadata": {},
   "outputs": [],
   "source": [
    "metadata = pd.read_csv(METADATA_PATH, sep = '\\t', header = None)\n",
    "metadata.columns = [\"movie_id\",1,\"movie_name\",3,4,5,6,7,\"genre\"]\n",
    "\n",
    "plots = []\n",
    "with open(PLOT_SUMMARIES_PATH, 'r') as f:\n",
    "    reader = csv.reader(f, dialect='excel-tab') \n",
    "    for row in tqdm(reader):\n",
    "        plots.append(row)\n",
    "\n",
    "movie_id = []\n",
    "plot = []\n",
    "\n",
    "# extract movie Ids and plot summaries\n",
    "for i in tqdm(plots):\n",
    "    movie_id.append(i[0])\n",
    "    plot.append(i[1])\n",
    "\n",
    "# create dataframe\n",
    "movies = pd.DataFrame({'movie_id': movie_id, 'plot': plot})\n",
    "\n",
    "# change datatype of 'movie_id'\n",
    "metadata['movie_id'] = metadata['movie_id'].astype(str)\n",
    "\n",
    "# merge meta with movies\n",
    "movies = pd.merge(movies, metadata[['movie_id', 'movie_name', 'genre']], on = 'movie_id')\n",
    "\n",
    "genres = [] \n",
    "\n",
    "# extract genres\n",
    "for i in movies['genre']: \n",
    "    genres.append(list(json.loads(i).values())) \n",
    "\n",
    "# add to 'movies' dataframe  \n",
    "movies['genre_new'] = genres\n",
    "genres = movies['genre_new'].values.tolist()\n",
    "binarizer = MultiLabelBinarizer()\n",
    "y_data = binarizer.fit_transform(genres)"
   ]
  },
  {
   "cell_type": "code",
   "execution_count": null,
   "metadata": {},
   "outputs": [],
   "source": [
    "counts = []\n",
    "categories = binarizer.classes_\n",
    "for i in range(categories.shape[0]):\n",
    "    counts.append((categories[i], np.sum(y_data[:,i])))\n",
    "df_stats = pd.DataFrame(counts, columns=['genre', '#movies'])\n",
    "\n",
    "x=df_stats[df_stats['#movies']<10]\n",
    "genres_to_remove = x['genre'].values.tolist()\n",
    "\n",
    "for word in genres_to_remove:\n",
    "    movies['genre_new'] = movies['genre_new'].apply(wordRemover(word).removeWord)\n",
    "    \n",
    "movies_new = movies[~(movies['genre_new'].str.len() == 0)]"
   ]
  },
  {
   "cell_type": "code",
   "execution_count": null,
   "metadata": {},
   "outputs": [],
   "source": [
    "movies_new.shape"
   ]
  },
  {
   "cell_type": "code",
   "execution_count": null,
   "metadata": {},
   "outputs": [],
   "source": [
    "ids = movies_new['movie_id'].values.tolist()"
   ]
  }
 ],
 "metadata": {
  "kernelspec": {
   "display_name": "Python 3",
   "language": "python",
   "name": "python3"
  },
  "language_info": {
   "codemirror_mode": {
    "name": "ipython",
    "version": 3
   },
   "file_extension": ".py",
   "mimetype": "text/x-python",
   "name": "python",
   "nbconvert_exporter": "python",
   "pygments_lexer": "ipython3",
   "version": "3.7.3"
  }
 },
 "nbformat": 4,
 "nbformat_minor": 2
}
