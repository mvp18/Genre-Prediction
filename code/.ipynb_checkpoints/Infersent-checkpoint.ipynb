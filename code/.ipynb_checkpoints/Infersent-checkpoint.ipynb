{
 "cells": [
  {
   "cell_type": "code",
   "execution_count": 1,
   "metadata": {},
   "outputs": [],
   "source": [
    "# import stuff\n",
    "%load_ext autoreload\n",
    "%autoreload 2\n",
    "%matplotlib inline\n",
    "\n",
    "from random import randint\n",
    "import numpy as np\n",
    "import torch\n",
    "import pickle"
   ]
  },
  {
   "cell_type": "code",
   "execution_count": 2,
   "metadata": {},
   "outputs": [
    {
     "data": {
      "text/plain": [
       "IncompatibleKeys(missing_keys=[], unexpected_keys=[])"
      ]
     },
     "execution_count": 2,
     "metadata": {},
     "output_type": "execute_result"
    }
   ],
   "source": [
    "import Infersent\n",
    "from Infersent.models import InferSent\n",
    "V = 2\n",
    "MODEL_PATH = '/Users/soumava/MovieSummaries/InferSent/encoder/infersent%s.pkl' % V\n",
    "params_model = {'bsize': 64, 'word_emb_dim': 300, 'enc_lstm_dim': 2048,\n",
    "                'pool_type': 'max', 'dpout_model': 0.0, 'version': V}\n",
    "model = InferSent(params_model)\n",
    "model.load_state_dict(torch.load(MODEL_PATH))"
   ]
  },
  {
   "cell_type": "code",
   "execution_count": 3,
   "metadata": {},
   "outputs": [],
   "source": [
    "W2V_PATH = '/Users/soumava/MovieSummaries/crawl-300d-2M.vec'\n",
    "model.set_w2v_path(W2V_PATH)"
   ]
  },
  {
   "cell_type": "code",
   "execution_count": 4,
   "metadata": {},
   "outputs": [
    {
     "name": "stdout",
     "output_type": "stream",
     "text": [
      "Vocab size : 500000\n"
     ]
    }
   ],
   "source": [
    "model.build_vocab_k_words(K=500000)"
   ]
  },
  {
   "cell_type": "code",
   "execution_count": 22,
   "metadata": {},
   "outputs": [],
   "source": [
    "file = open(\"../data/plot_summaries.txt\")\n",
    "sentences=[]\n",
    "for movie in file.readlines():\n",
    "    movie_id, plot = movie.split('\\t')\n",
    "    for sentence in plot.split('.'):\n",
    "        if sentence!='\\n' and sentence!='':\n",
    "            sentences.append(sentence)"
   ]
  },
  {
   "cell_type": "code",
   "execution_count": 33,
   "metadata": {},
   "outputs": [
    {
     "name": "stdout",
     "output_type": "stream",
     "text": [
      "Nb words kept : 31/33 (93.9%)\n",
      "Speed : 7.3 sentences/s (cpu mode, bsize=64)\n"
     ]
    }
   ],
   "source": [
    "embeddings = model.encode(sentences[:1], tokenize=True, verbose=True)"
   ]
  },
  {
   "cell_type": "code",
   "execution_count": null,
   "metadata": {},
   "outputs": [],
   "source": [
    "f = open(\"../data/plot_summaries.txt\")\n",
    "count=0\n",
    "sentences=[]\n",
    "for movie in f.readlines():\n",
    "    movie_id, plot = movie.split('\\t')\n",
    "    embeddings=[]\n",
    "    in_count=0\n",
    "    for sentence in plot.split('.'):\n",
    "        if sentence!='\\n' and sentence!='':\n",
    "            in_count+=1\n",
    "            sentences.append(sentence)\n",
    "            embeddings.append(sentence)\n",
    "    if in_count==67:\n",
    "        print('SENTENCES for this PLOT:', embeddings)\n",
    "    count+=1\n",
    "    if count==40:\n",
    "        break"
   ]
  },
  {
   "cell_type": "markdown",
   "metadata": {},
   "source": [
    "f = open(\"../data/plot_summaries.txt\")\n",
    "dict = {}\n",
    "count=0\n",
    "sentences=[]\n",
    "for movie in f.readlines():\n",
    "    movie_id, plot = movie.split('\\t')\n",
    "    count+=1\n",
    "    if movie_id=='31186339':\n",
    "        for sentence in plot.split('.'):\n",
    "            sentences.append(sentence)\n",
    "        break"
   ]
  },
  {
   "cell_type": "code",
   "execution_count": null,
   "metadata": {},
   "outputs": [],
   "source": [
    "embeddings = model.encode(sentences[200:300], verbose=True)"
   ]
  },
  {
   "cell_type": "code",
   "execution_count": null,
   "metadata": {},
   "outputs": [],
   "source": [
    "idx = randint(0, len(sentences))\n",
    "_, _ = model.visualize(sentences[idx])"
   ]
  }
 ],
 "metadata": {
  "kernelspec": {
   "display_name": "Python 3",
   "language": "python",
   "name": "python3"
  },
  "language_info": {
   "codemirror_mode": {
    "name": "ipython",
    "version": 3
   },
   "file_extension": ".py",
   "mimetype": "text/x-python",
   "name": "python",
   "nbconvert_exporter": "python",
   "pygments_lexer": "ipython3",
   "version": "3.7.3"
  }
 },
 "nbformat": 4,
 "nbformat_minor": 2
}
